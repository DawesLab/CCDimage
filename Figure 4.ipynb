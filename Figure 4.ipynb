{
 "cells": [
  {
   "cell_type": "code",
   "execution_count": 18,
   "id": "clean-jesus",
   "metadata": {},
   "outputs": [
    {
     "name": "stdout",
     "output_type": "stream",
     "text": [
      "Populating the interactive namespace from numpy and matplotlib\n"
     ]
    },
    {
     "name": "stderr",
     "output_type": "stream",
     "text": [
      "WARNING: pylab import has clobbered these variables: ['rc', 'axes']\n",
      "`%matplotlib` prevents importing * from pylab and numpy\n"
     ]
    }
   ],
   "source": [
    "%pylab inline\n",
    "sys.path.append('/home/photon/code/Qfunction')\n",
    "import Qfunction as Qfunc\n",
    "import scipy.stats as sp\n",
    "from matplotlib import rc\n",
    "from matplotlib.ticker import MultipleLocator"
   ]
  },
  {
   "cell_type": "code",
   "execution_count": 19,
   "id": "satellite-funeral",
   "metadata": {},
   "outputs": [],
   "source": [
    "vacuum_focal_raw = np.load(\"/home/photon/data/07-03-2014/13-37-57_raw.npz\")\n",
    "focal_raw = np.load(\"/home/photon/data/07-03-2014/13-49-56_raw.npz\")\n",
    "#unblocked_raw = np.load(\"/home/photon/data/06-26-2014/13-13-26_raw.npz\")\n",
    "#vacuum_unblocked_raw = np.load(\"/home/photon/data/06-26-2014/13-11-12_raw.npz\")"
   ]
  },
  {
   "cell_type": "code",
   "execution_count": 20,
   "id": "involved-length",
   "metadata": {},
   "outputs": [],
   "source": [
    "#unblocked_vac_data = vacuum_unblocked_raw['dataOut']\n",
    "#unblocked_data = unblocked_raw['dataOut']\n",
    "#unblocked_ncount = unblocked_raw['ncount']\n",
    "focal_vac_data = vacuum_focal_raw['dataOut']\n",
    "focal_data = focal_raw['dataOut']\n",
    "focal_ncount = focal_raw['ncount']"
   ]
  },
  {
   "cell_type": "code",
   "execution_count": 21,
   "id": "fourth-europe",
   "metadata": {},
   "outputs": [],
   "source": [
    "#Kp_vacU = np.average(unblocked_vac_data,axis=(1,2))\n",
    "#scaled_vcU = np.sqrt(2.0/unblocked_ncount)*(unblocked_data - Kp_vacU.reshape(600,1,1))\n",
    "Kp_vacF = np.average(focal_vac_data,axis=(1,2))\n",
    "scaled_vcF = np.sqrt(2.0/focal_ncount)*(focal_data - Kp_vacF.reshape(600,1,1))"
   ]
  },
  {
   "cell_type": "code",
   "execution_count": 22,
   "id": "sufficient-craps",
   "metadata": {},
   "outputs": [],
   "source": [
    "modeA = 185\n",
    "outputF = scaled_vcF[modeA,:,:].flatten()  # Choose the mode to analyze\n",
    "#outputU = scaled_vcU[modeA,:,:].flatten()  # Choose the mode to analyze\n",
    "#y_realF = np.real(outputF)\n",
    "#y_imagF = np.imag(outputF)\n",
    "#y_realU = np.real(outputU)\n",
    "#y_imagU = np.imag(outputU)\n",
    "#x_realF = []\n",
    "#x_realU = []\n",
    "#x_imagF = []\n",
    "#x_imagU = []\n",
    "#x_absF = []\n",
    "#x_absU = []\n",
    "outputF = []\n",
    "#outputU = []\n",
    "#magnitudeF = []\n",
    "#magnitudeU = []\n",
    "modes = range(0,300)\n",
    "theta = []\n",
    "#single_mode_vacuumF = []\n",
    "#single_mode_vacuumU = []\n",
    "#x_vacF = []\n",
    "#x_vacU = []\n",
    "photon_numberF = []\n",
    "std_devF = []\n",
    "#photon_numberU = []\n",
    "    \n",
    "for i in modes:\n",
    "    x = np.real(scaled_vcF[i,:,:].flatten('F'))\n",
    "    y = np.imag(scaled_vcF[i,:,:].flatten('F'))\n",
    "    outputF.append(scaled_vcF[i,:,:].flatten())\n",
    "    #outputU.append(scaled_vcU[i,:,:].flatten())\n",
    "    #x_realF.append(np.real(outputF[i]))\n",
    "    #x_realU.append(np.real(outputU[i])) \n",
    "    #x_imagF.append(np.imag(outputF[i]))\n",
    "    #x_imagU.append(np.imag(outputU[i]))\n",
    "    #x_absF.append(np.abs(outputF[i]))\n",
    "    #x_absU.append(np.abs(outputU[i]))\n",
    "    #magnitudeF.append(np.average(x_absF[i]))\n",
    "    #magnitudeU.append(np.average(x_absU[i]))\n",
    "    theta.append(modes[i] * (780e-9)/(600*20e-6)*1000)\n",
    "    #single_mode_vacuumU.append(unblocked_vac_data[i,:,:].flatten())\n",
    "    #x_vacU.append(np.real(single_mode_vacuumU[i]))\n",
    "    photon_numberF.append(0.5*(np.average(np.abs(outputF[i])))**2)\n",
    "    std_devF.append(Qfunc.std_n_raw(x,y))\n",
    "    #photon_numberU.append(0.5*(np.average(np.abs(outputU[i])))**2)"
   ]
  },
  {
   "cell_type": "code",
   "execution_count": 23,
   "id": "shaped-filling",
   "metadata": {},
   "outputs": [
    {
     "data": {
      "image/png": "[encoded data removed]",
      "text/plain": [
       "<matplotlib.figure.Figure at 0x2dbd4d0>"
      ]
     },
     "metadata": {},
     "output_type": "display_data"
    }
   ],
   "source": [
    "rc('font',size=28)\n",
    "rc('font',family='serif')\n",
    "rc('axes',labelsize=32)\n",
    "rc('ytick.major', pad = 8)\n",
    "figure(figsize=(13.5,6))\n",
    "subplots_adjust(left=0.15, right=0.95, top=0.95, bottom=0.2)\n",
    "errorbar(theta[180:220], photon_numberF[180:220],yerr=std_devF[180:220],fmt=\".-\",markersize=15)\n",
    "#plot(theta[161:200], photon_numberU[161:200] ,\".-\",markersize=15)\n",
    "xlabel(\"$\\\\theta$ (mrad)\")\n",
    "ylabel(\"$\\\\langle n_p \\\\rangle$\")\n",
    "xlim((12.2, 13.6))\n",
    "ylim((-5,135))\n",
    "axes = gca()\n",
    "axes.xaxis.set_major_locator(MultipleLocator(0.3))\n",
    "savefig(\"/home/photon/Dropbox/figure4.pdf\")"
   ]
  },
  {
   "cell_type": "code",
   "execution_count": null,
   "id": "affiliated-franklin",
   "metadata": {},
   "outputs": [],
   "source": []
  }
 ],
 "metadata": {
  "kernelspec": {
   "display_name": "Python 3",
   "language": "python",
   "name": "python3"
  },
  "language_info": {
   "codemirror_mode": {
    "name": "ipython",
    "version": 3
   },
   "file_extension": ".py",
   "mimetype": "text/x-python",
   "name": "python",
   "nbconvert_exporter": "python",
   "pygments_lexer": "ipython3",
   "version": "3.7.9"
  }
 },
 "nbformat": 4,
 "nbformat_minor": 1
}
