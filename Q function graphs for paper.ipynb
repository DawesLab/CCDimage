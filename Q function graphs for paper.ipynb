{
 "metadata": {
  "name": "",
  "signature": "sha256:5d935ad2765dabf420db95fd52a259fa6350f9b431d9f61ebdff28ba2fb99b79"
 },
 "nbformat": 3,
 "nbformat_minor": 0,
 "worksheets": [
  {
   "cells": [
    {
     "cell_type": "code",
     "collapsed": false,
     "input": [
      "from mpl_toolkits.mplot3d import Axes3D\n",
      "import matplotlib.pyplot as plt\n",
      "from matplotlib.mlab import griddata\n",
      "from matplotlib.ticker import MultipleLocator\n",
      "import numpy as np\n",
      "from scipy.stats import gaussian_kde\n",
      "from matplotlib import rc\n",
      "import numpy as np\n",
      "import sys\n",
      "sys.path.append(\"/home/photon/code/Qfunction/\")\n",
      "from Qfunction import kernel_estimate"
     ],
     "language": "python",
     "metadata": {},
     "outputs": [],
     "prompt_number": 46
    },
    {
     "cell_type": "code",
     "collapsed": false,
     "input": [
      "cd \"/home/photon/Dropbox/\""
     ],
     "language": "python",
     "metadata": {},
     "outputs": [
      {
       "output_type": "stream",
       "stream": "stdout",
       "text": [
        "/home/photon/Dropbox\n"
       ]
      }
     ],
     "prompt_number": 47
    },
    {
     "cell_type": "markdown",
     "metadata": {},
     "source": [
      "# Q function for single mode (Fig. 1)"
     ]
    },
    {
     "cell_type": "code",
     "collapsed": false,
     "input": [
      "vacuum_npz = np.load(\"/home/photon/data/07-03-2014/13-37-57_raw.npz\")\n",
      "data_npz = np.load(\"/home/photon/data/07-03-2014/13-49-56_raw.npz\")\n",
      "data = data_npz['dataOut']\n",
      "vacuum = vacuum_npz['dataOut']\n",
      "ncount = data_npz['ncount']\n",
      "Kp_vac = np.average(vacuum,axis=(1,2))\n",
      "scaled_vc = np.sqrt(2.0/ncount)*(data - Kp_vac.reshape(600,1,1))"
     ],
     "language": "python",
     "metadata": {},
     "outputs": [],
     "prompt_number": 55
    },
    {
     "cell_type": "code",
     "collapsed": false,
     "input": [
      "mode = 203\n",
      "output = scaled_vc[mode,:,:].flatten('F')"
     ],
     "language": "python",
     "metadata": {},
     "outputs": [],
     "prompt_number": 56
    },
    {
     "cell_type": "code",
     "collapsed": false,
     "input": [
      "x = np.real(output)\n",
      "y = np.imag(output)"
     ],
     "language": "python",
     "metadata": {},
     "outputs": [],
     "prompt_number": 57
    },
    {
     "cell_type": "code",
     "collapsed": false,
     "input": [
      "rc('font',size=28)\n",
      "rc('font',family='serif')\n",
      "rc('axes',labelsize=32)\n",
      "\n",
      "bins=25\n",
      "fig = plt.figure(figsize=(13.5,8))  # PRL default width\n",
      "\n",
      "ax1 = fig.add_subplot(121, projection='3d')\n",
      "plt.subplots_adjust(left=0, right=0.90, top=1, bottom=0, wspace=0.22)\n",
      "\n",
      "hist, xedges, yedges = np.histogram2d(x, y, bins)\n",
      "X, Y = np.meshgrid(xedges[:-1], yedges[:-1])\n",
      "Z = hist\n",
      "binsize = (xedges[1] - xedges[0])*(yedges[1] - yedges[0])\n",
      "norm = Z.sum()*binsize\n",
      "Z = Z/norm # normalize Z\n",
      "surf = ax1.plot_surface(X,Y,Z,cstride=1,rstride=1,color=\"white\",shade=False)\n",
      "contourz = (Z.min()-Z.max())*0.4  # where to put the contours\n",
      "cset = ax1.contour(X,Y,Z.reshape(X.shape),zdir='z',offset=contourz)\n",
      "\n",
      "ax2 = fig.add_subplot(122, projection='3d')\n",
      "X2,Y2,Z2 = kernel_estimate(x,y,bins)\n",
      "surf2 = ax2.plot_surface(X2,Y2,Z2,cstride=1,rstride=1,color=\"white\",shade=False)\n",
      "contourz2 = (Z2.min()-Z2.max())*0.4 # where to put the contours\n",
      "cset2 = ax2.contour(X2,Y2,Z2.reshape(X2.shape),zdir='z',offset=contourz2)\n",
      "\n",
      "\n",
      "ax1.set_xlabel(r'$x_p$')\n",
      "ax1.set_ylabel(r'$y_p$')\n",
      "#ax1.set_zlabel(r'$Q(x_p,y_p)$')\n",
      "ax1.text(X.min()*1.0, Y.min()*1.0, Z.max()*1.2, r'$Q(x_p,y_p)$')\n",
      "ax1.xaxis.set_rotate_label(False)\n",
      "ax1.yaxis.set_rotate_label(False)\n",
      "ax1.zaxis.set_rotate_label(False)\n",
      "ax1.set_zlim(contourz,Z.max()*1.1)\n",
      "ax1.view_init(elev=10, azim=135)\n",
      "ax1.grid(False)\n",
      "ax1.xaxis.pane.set_edgecolor('black')\n",
      "ax1.yaxis.pane.set_edgecolor('black')\n",
      "ax1.xaxis.pane.fill = False\n",
      "ax1.yaxis.pane.fill = False\n",
      "ax1.zaxis.pane.fill = False\n",
      "ax1.xaxis.set_major_locator(MultipleLocator(4))\n",
      "ax1.yaxis.set_major_locator(MultipleLocator(4))\n",
      "ax1.zaxis.set_major_locator(MultipleLocator(0.1))\n",
      "[t.set_va('center') for t in ax1.get_yticklabels()]\n",
      "[t.set_ha('left') for t in ax1.get_yticklabels()]\n",
      "[t.set_va('center') for t in ax1.get_xticklabels()]\n",
      "[t.set_ha('right') for t in ax1.get_xticklabels()]\n",
      "[t.set_va('center') for t in ax1.get_zticklabels()]\n",
      "[t.set_ha('left') for t in ax1.get_zticklabels()]\n",
      "ax1.xaxis._axinfo['tick']['inward_factor'] = 0\n",
      "ax1.xaxis._axinfo['tick']['outward_factor'] = 0.4\n",
      "ax1.yaxis._axinfo['tick']['inward_factor'] = 0\n",
      "ax1.yaxis._axinfo['tick']['outward_factor'] = 0.4\n",
      "ax1.zaxis._axinfo['tick']['inward_factor'] = 0\n",
      "ax1.zaxis._axinfo['tick']['outward_factor'] = 0.4\n",
      "ax1.zaxis._axinfo['tick']['outward_factor'] = 0.4\n",
      "\n",
      "ax2.set_xlabel(r'$x_p$',fontsize=32)\n",
      "ax2.set_ylabel(r'$y_p$')\n",
      "#ax2.set_zlabel(r'$Q(x_p,y_p)$')\n",
      "ax2.text(X2.min()*1.0, Y2.min()*1.0, Z2.max()*1.2, r'$Q(x_p,y_p)$')\n",
      "ax2.xaxis.set_rotate_label(False)\n",
      "ax2.yaxis.set_rotate_label(False)\n",
      "ax2.zaxis.set_rotate_label(False)\n",
      "ax2.set_zlim(contourz2,Z2.max()*1.1)\n",
      "ax2.view_init(elev=10, azim=135)\n",
      "ax2.grid(False)\n",
      "ax2.xaxis.pane.set_edgecolor('black')\n",
      "ax2.yaxis.pane.set_edgecolor('black')\n",
      "ax2.xaxis.pane.fill = False\n",
      "ax2.yaxis.pane.fill = False\n",
      "ax2.zaxis.pane.fill = False\n",
      "ax2.xaxis.set_major_locator(MultipleLocator(4))\n",
      "ax2.yaxis.set_major_locator(MultipleLocator(4))\n",
      "ax2.zaxis.set_major_locator(MultipleLocator(0.1))\n",
      "[t.set_va('center') for t in ax2.get_yticklabels()]\n",
      "[t.set_ha('left') for t in ax2.get_yticklabels()]\n",
      "[t.set_va('center') for t in ax2.get_xticklabels()]\n",
      "[t.set_ha('right') for t in ax2.get_xticklabels()]\n",
      "[t.set_va('center') for t in ax2.get_zticklabels()]\n",
      "[t.set_ha('left') for t in ax2.get_zticklabels()]\n",
      "ax2.xaxis._axinfo['tick']['inward_factor'] = 0\n",
      "ax2.xaxis._axinfo['tick']['outward_factor'] = 0.4\n",
      "ax2.yaxis._axinfo['tick']['inward_factor'] = 0\n",
      "ax2.yaxis._axinfo['tick']['outward_factor'] = 0.4\n",
      "ax2.zaxis._axinfo['tick']['inward_factor'] = 0\n",
      "ax2.zaxis._axinfo['tick']['outward_factor'] = 0.4\n",
      "\n",
      "fig.savefig(\"figure1.pdf\")\n",
      "plt.close()"
     ],
     "language": "python",
     "metadata": {},
     "outputs": [
      {
       "output_type": "stream",
       "stream": "stdout",
       "text": [
        "KDE kernel factor:  0.250990144218\n"
       ]
      }
     ],
     "prompt_number": 58
    },
    {
     "cell_type": "markdown",
     "metadata": {},
     "source": [
      "# Random phase Q function (Fig. 2)"
     ]
    },
    {
     "cell_type": "code",
     "collapsed": false,
     "input": [
      "random_phase_vac = np.load(\"/home/photon/data/06-25-2014/11-42-08_raw.npz\")\n",
      "random_phase = np.load(\"/home/photon/data/06-25-2014/11-43-38_raw.npz\")\n",
      "random_phase_vac_data = random_phase_vac['dataOut']\n",
      "random_phase_data = random_phase['dataOut']\n",
      "ncount = random_phase['ncount']\n",
      "Kp_vac = np.average(random_phase_vac_data,axis=(1,2))\n",
      "scaled_vc = np.sqrt(2.0/ncount)*(random_phase_data - Kp_vac.reshape(600,1,1))"
     ],
     "language": "python",
     "metadata": {},
     "outputs": [],
     "prompt_number": 24
    },
    {
     "cell_type": "code",
     "collapsed": false,
     "input": [
      "mode = 178\n",
      "output = scaled_vc[mode,:,:].flatten('F')"
     ],
     "language": "python",
     "metadata": {},
     "outputs": [],
     "prompt_number": 25
    },
    {
     "cell_type": "code",
     "collapsed": false,
     "input": [
      "x = np.real(output)\n",
      "y = np.imag(output)"
     ],
     "language": "python",
     "metadata": {},
     "outputs": [],
     "prompt_number": 26
    },
    {
     "cell_type": "code",
     "collapsed": false,
     "input": [
      "rc('font',size=28)\n",
      "rc('font',family='serif')\n",
      "rc('axes',labelsize=32)\n",
      "\n",
      "bins=25\n",
      "fig = plt.figure(figsize=(13.5,8))  # PRL default width\n",
      "\n",
      "ax1 = fig.add_subplot(121, projection='3d')\n",
      "plt.subplots_adjust(left=0, right=0.90, top=1, bottom=0, wspace=0.22)\n",
      "\n",
      "hist, xedges, yedges = np.histogram2d(x, y, bins)\n",
      "X, Y = np.meshgrid(xedges[:-1], yedges[:-1])\n",
      "Z = hist\n",
      "binsize = np.abs((xedges[1] - xedges[0])*(yedges[1] - yedges[0]))\n",
      "norm = Z.sum()*binsize\n",
      "Z = Z/norm # normalize Z\n",
      "surf = ax1.plot_surface(X,Y,Z,cstride=1,rstride=1,color=\"white\",shade=False)\n",
      "contourz = (Z.min()-Z.max())*0.4  # where to put the contours\n",
      "cset = ax1.contour(X,Y,Z.reshape(X.shape),zdir='z',offset=contourz)\n",
      "\n",
      "ax2 = fig.add_subplot(122, projection='3d')\n",
      "X2,Y2,Z2 = kernel_estimate(x,y,bins)\n",
      "surf2 = ax2.plot_surface(X2,Y2,Z2,cstride=1,rstride=1,color=\"white\",shade=False)\n",
      "contourz2 = (Z2.min()-Z2.max())*0.4 # where to put the contours\n",
      "cset2 = ax2.contour(X2,Y2,Z2.reshape(X2.shape),zdir='z',offset=contourz2)\n",
      "\n",
      "\n",
      "ax1.set_xlabel(r'$x_p$')\n",
      "ax1.set_ylabel(r'$y_p$')\n",
      "#ax1.set_zlabel(r'$Q(x_p,y_p)$')\n",
      "ax1.text(X.min()*1.1, Y.min()*1.1, Z.max()*1.1, r'$Q(x_p,y_p)$')\n",
      "ax1.xaxis.set_rotate_label(False)\n",
      "ax1.yaxis.set_rotate_label(False)\n",
      "ax1.zaxis.set_rotate_label(False)\n",
      "ax1.set_zlim(contourz,Z.max()*1.1)\n",
      "ax1.view_init(elev=10, azim=135)\n",
      "ax1.grid(False)\n",
      "ax1.xaxis.pane.set_edgecolor('black')\n",
      "ax1.yaxis.pane.set_edgecolor('black')\n",
      "ax1.xaxis.pane.fill = False\n",
      "ax1.yaxis.pane.fill = False\n",
      "ax1.zaxis.pane.fill = False\n",
      "ax1.xaxis.set_major_locator(MultipleLocator(8))\n",
      "ax1.yaxis.set_major_locator(MultipleLocator(8))\n",
      "ax1.zaxis.set_major_locator(MultipleLocator(0.01))\n",
      "[t.set_va('center') for t in ax1.get_yticklabels()]\n",
      "[t.set_ha('left') for t in ax1.get_yticklabels()]\n",
      "[t.set_va('center') for t in ax1.get_xticklabels()]\n",
      "[t.set_ha('right') for t in ax1.get_xticklabels()]\n",
      "[t.set_va('center') for t in ax1.get_zticklabels()]\n",
      "[t.set_ha('left') for t in ax1.get_zticklabels()]\n",
      "ax1.xaxis._axinfo['tick']['inward_factor'] = 0\n",
      "ax1.xaxis._axinfo['tick']['outward_factor'] = 0.4\n",
      "ax1.yaxis._axinfo['tick']['inward_factor'] = 0\n",
      "ax1.yaxis._axinfo['tick']['outward_factor'] = 0.4\n",
      "ax1.zaxis._axinfo['tick']['inward_factor'] = 0\n",
      "ax1.zaxis._axinfo['tick']['outward_factor'] = 0.4\n",
      "ax1.zaxis._axinfo['tick']['outward_factor'] = 0.4\n",
      "\n",
      "ax2.set_xlabel(r'$x_p$',fontsize=32)\n",
      "ax2.set_ylabel(r'$y_p$')\n",
      "#ax2.set_zlabel(r'$Q(x_p,y_p)$')\n",
      "ax2.text(X2.min()*1.1, Y2.min()*1.1, Z2.max()*1.1, r'$Q(x_p,y_p)$')\n",
      "ax2.xaxis.set_rotate_label(False)\n",
      "ax2.yaxis.set_rotate_label(False)\n",
      "ax2.zaxis.set_rotate_label(False)\n",
      "ax2.set_zlim(contourz2,Z2.max()*1.1)\n",
      "ax2.view_init(elev=10, azim=135)\n",
      "ax2.grid(False)\n",
      "ax2.xaxis.pane.set_edgecolor('black')\n",
      "ax2.yaxis.pane.set_edgecolor('black')\n",
      "ax2.xaxis.pane.fill = False\n",
      "ax2.yaxis.pane.fill = False\n",
      "ax2.zaxis.pane.fill = False\n",
      "ax2.xaxis.set_major_locator(MultipleLocator(8))\n",
      "ax2.yaxis.set_major_locator(MultipleLocator(8))\n",
      "ax2.zaxis.set_major_locator(MultipleLocator(0.005))\n",
      "[t.set_va('center') for t in ax2.get_yticklabels()]\n",
      "[t.set_ha('left') for t in ax2.get_yticklabels()]\n",
      "[t.set_va('center') for t in ax2.get_xticklabels()]\n",
      "[t.set_ha('right') for t in ax2.get_xticklabels()]\n",
      "[t.set_va('center') for t in ax2.get_zticklabels()]\n",
      "[t.set_ha('left') for t in ax2.get_zticklabels()]\n",
      "ax2.xaxis._axinfo['tick']['inward_factor'] = 0\n",
      "ax2.xaxis._axinfo['tick']['outward_factor'] = 0.4\n",
      "ax2.yaxis._axinfo['tick']['inward_factor'] = 0\n",
      "ax2.yaxis._axinfo['tick']['outward_factor'] = 0.4\n",
      "ax2.zaxis._axinfo['tick']['inward_factor'] = 0\n",
      "ax2.zaxis._axinfo['tick']['outward_factor'] = 0.4\n",
      "fig.savefig(\"figure2.pdf\")\n",
      "plt.close()"
     ],
     "language": "python",
     "metadata": {},
     "outputs": [
      {
       "output_type": "stream",
       "stream": "stdout",
       "text": [
        "KDE kernel factor:  0.316227766017\n"
       ]
      }
     ],
     "prompt_number": 33
    },
    {
     "cell_type": "markdown",
     "metadata": {},
     "source": [
      "#Correlation Q-functions (Fig 3)"
     ]
    },
    {
     "cell_type": "code",
     "collapsed": false,
     "input": [
      "random_phase_vac = np.load(\"/home/photon/data/07-03-2014/13-37-57_raw.npz\")\n",
      "random_phase = np.load(\"/home/photon/data/07-03-2014/14-14-41_raw.npz\")\n",
      "random_phase_vac_data = random_phase_vac['dataOut']\n",
      "random_phase_data = random_phase['dataOut']\n",
      "ncount = random_phase['ncount']\n",
      "Kp_vac = np.average(random_phase_vac_data,axis=(1,2))\n",
      "scaled_vc = np.sqrt(2.0/ncount)*(random_phase_data - Kp_vac.reshape(600,1,1))"
     ],
     "language": "python",
     "metadata": {},
     "outputs": [],
     "prompt_number": 59
    },
    {
     "cell_type": "code",
     "collapsed": false,
     "input": [
      "modeA = 197\n",
      "modeB = 198\n",
      "outputA = scaled_vc[modeA,:,:].flatten('F')\n",
      "outputB = scaled_vc[modeB,:,:].flatten('F')\n",
      "x = np.real(outputA)\n",
      "y = np.real(outputB)"
     ],
     "language": "python",
     "metadata": {},
     "outputs": [],
     "prompt_number": 60
    },
    {
     "cell_type": "code",
     "collapsed": false,
     "input": [
      "rc('font',size=28)\n",
      "rc('font',family='serif')\n",
      "rc('axes',labelsize=32)\n",
      "\n",
      "bins=25\n",
      "fig = plt.figure(figsize=(13.5,8))  # PRL default width\n",
      "\n",
      "ax1 = fig.add_subplot(121, projection='3d')\n",
      "plt.subplots_adjust(left=0, right=0.90, top=1, bottom=0, wspace=0.22)\n",
      "\n",
      "hist, xedges, yedges = np.histogram2d(x, y, bins)\n",
      "X, Y = np.meshgrid(xedges[:-1], yedges[:-1])\n",
      "Z = hist\n",
      "binsize = (xedges[1] - xedges[0])*(yedges[1] - yedges[0])\n",
      "norm = Z.sum()*binsize\n",
      "Z = Z/norm # normalize Z\n",
      "surf = ax1.plot_surface(X,Y,Z,cstride=1,rstride=1,color=\"white\",shade=False)\n",
      "contourz = (Z.min()-Z.max())*0.4  # where to put the contours\n",
      "cset = ax1.contour(X,Y,Z.reshape(X.shape),zdir='z',offset=contourz)\n",
      "\n",
      "ax2 = fig.add_subplot(122, projection='3d')\n",
      "X2,Y2,Z2 = kernel_estimate(x,y,bins)\n",
      "surf2 = ax2.plot_surface(X2,Y2,Z2,cstride=1,rstride=1,color=\"white\",shade=False)\n",
      "contourz2 = (Z2.min()-Z2.max())*0.4 # where to put the contours\n",
      "cset2 = ax2.contour(X2,Y2,Z2.reshape(X2.shape),zdir='z',offset=contourz2)\n",
      "\n",
      "\n",
      "ax1.set_xlabel(r'$x_p$')\n",
      "ax1.set_ylabel(r\"$x_{p'}$\")\n",
      "#ax1.set_zlabel(r'$Q(x_p,y_p)$')\n",
      "ax1.text(X.min()*1.0, Y.min()*1.0, Z.max()*1.2, r\"$Q(x_p,x_{p'})$\")\n",
      "ax1.xaxis.set_rotate_label(False)\n",
      "ax1.yaxis.set_rotate_label(False)\n",
      "ax1.zaxis.set_rotate_label(False)\n",
      "ax1.set_zlim(contourz,Z.max()*1.1)\n",
      "ax1.view_init(elev=10, azim=135)\n",
      "ax1.grid(False)\n",
      "ax1.xaxis.pane.set_edgecolor('black')\n",
      "ax1.yaxis.pane.set_edgecolor('black')\n",
      "ax1.xaxis.pane.fill = False\n",
      "ax1.yaxis.pane.fill = False\n",
      "ax1.zaxis.pane.fill = False\n",
      "ax1.xaxis.set_major_locator(MultipleLocator(5))\n",
      "ax1.yaxis.set_major_locator(MultipleLocator(5))\n",
      "ax1.zaxis.set_major_locator(MultipleLocator(0.03))\n",
      "[t.set_va('center') for t in ax1.get_yticklabels()]\n",
      "[t.set_ha('left') for t in ax1.get_yticklabels()]\n",
      "[t.set_va('center') for t in ax1.get_xticklabels()]\n",
      "[t.set_ha('right') for t in ax1.get_xticklabels()]\n",
      "[t.set_va('center') for t in ax1.get_zticklabels()]\n",
      "[t.set_ha('left') for t in ax1.get_zticklabels()]\n",
      "ax1.xaxis._axinfo['tick']['inward_factor'] = 0\n",
      "ax1.xaxis._axinfo['tick']['outward_factor'] = 0.4\n",
      "ax1.yaxis._axinfo['tick']['inward_factor'] = 0\n",
      "ax1.yaxis._axinfo['tick']['outward_factor'] = 0.4\n",
      "ax1.zaxis._axinfo['tick']['inward_factor'] = 0\n",
      "ax1.zaxis._axinfo['tick']['outward_factor'] = 0.4\n",
      "ax1.zaxis._axinfo['tick']['outward_factor'] = 0.4\n",
      "\n",
      "ax2.set_xlabel(r'$x_p$',fontsize=32)\n",
      "ax2.set_ylabel(r\"$x_{p'}$\")\n",
      "#ax2.set_zlabel(r'$Q(x_p,y_p)$')\n",
      "ax2.text(X2.min()*1.0, Y2.min()*1.0, Z2.max()*1.2, r\"$Q(x_p,x_{p'})$\")\n",
      "ax2.xaxis.set_rotate_label(False)\n",
      "ax2.yaxis.set_rotate_label(False)\n",
      "ax2.zaxis.set_rotate_label(False)\n",
      "ax2.set_zlim(contourz2,Z2.max()*1.1)\n",
      "ax2.view_init(elev=10, azim=135)\n",
      "ax2.grid(False)\n",
      "ax2.xaxis.pane.set_edgecolor('black')\n",
      "ax2.yaxis.pane.set_edgecolor('black')\n",
      "ax2.xaxis.pane.fill = False\n",
      "ax2.yaxis.pane.fill = False\n",
      "ax2.zaxis.pane.fill = False\n",
      "ax2.xaxis.set_major_locator(MultipleLocator(5))\n",
      "ax2.yaxis.set_major_locator(MultipleLocator(5))\n",
      "ax2.zaxis.set_major_locator(MultipleLocator(0.03))\n",
      "[t.set_va('center') for t in ax2.get_yticklabels()]\n",
      "[t.set_ha('left') for t in ax2.get_yticklabels()]\n",
      "[t.set_va('center') for t in ax2.get_xticklabels()]\n",
      "[t.set_ha('right') for t in ax2.get_xticklabels()]\n",
      "[t.set_va('center') for t in ax2.get_zticklabels()]\n",
      "[t.set_ha('left') for t in ax2.get_zticklabels()]\n",
      "ax2.xaxis._axinfo['tick']['inward_factor'] = 0\n",
      "ax2.xaxis._axinfo['tick']['outward_factor'] = 0.4\n",
      "ax2.yaxis._axinfo['tick']['inward_factor'] = 0\n",
      "ax2.yaxis._axinfo['tick']['outward_factor'] = 0.4\n",
      "ax2.zaxis._axinfo['tick']['inward_factor'] = 0\n",
      "ax2.zaxis._axinfo['tick']['outward_factor'] = 0.4\n",
      "fig.savefig(\"figure3.pdf\")\n",
      "plt.close()"
     ],
     "language": "python",
     "metadata": {},
     "outputs": [
      {
       "output_type": "stream",
       "stream": "stdout",
       "text": [
        "KDE kernel factor:  0.241827117512\n"
       ]
      }
     ],
     "prompt_number": 61
    },
    {
     "cell_type": "code",
     "collapsed": false,
     "input": [
      "Z2.sum()"
     ],
     "language": "python",
     "metadata": {},
     "outputs": [
      {
       "metadata": {},
       "output_type": "pyout",
       "prompt_number": 73,
       "text": [
        "1.0000000000000033"
       ]
      }
     ],
     "prompt_number": 73
    },
    {
     "cell_type": "code",
     "collapsed": false,
     "input": [],
     "language": "python",
     "metadata": {},
     "outputs": []
    },
    {
     "cell_type": "code",
     "collapsed": false,
     "input": [],
     "language": "python",
     "metadata": {},
     "outputs": []
    }
   ],
   "metadata": {}
  }
 ]
}