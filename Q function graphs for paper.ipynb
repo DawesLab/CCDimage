{
 "metadata": {
  "name": "",
  "signature": "sha256:0e6c568b8403841c6631d0c315a24979c8a093bbf59e6be4f0da0e89d4acfabe"
 },
 "nbformat": 3,
 "nbformat_minor": 0,
 "worksheets": [
  {
   "cells": [
    {
     "cell_type": "code",
     "collapsed": false,
     "input": [
      "import numpy as np\n",
      "import matplotlib.pyplot as plt\n",
      "from mpl_toolkits.mplot3d import Axes3D"
     ],
     "language": "python",
     "metadata": {},
     "outputs": [],
     "prompt_number": 1
    },
    {
     "cell_type": "code",
     "collapsed": false,
     "input": [
      "cd \"/home/photon/Dropbox/\""
     ],
     "language": "python",
     "metadata": {},
     "outputs": [
      {
       "output_type": "stream",
       "stream": "stdout",
       "text": [
        "/home/photon/Dropbox\n"
       ]
      }
     ],
     "prompt_number": 2
    },
    {
     "cell_type": "markdown",
     "metadata": {},
     "source": [
      "# Q function for single mode (Fig. 1)"
     ]
    },
    {
     "cell_type": "code",
     "collapsed": false,
     "input": [
      "data_npz = np.load(\"/home/photon/data/06-27-2014/10-55-21_raw.npz\")\n",
      "vacuum_npz = np.load(\"/home/photon/data/06-27-2014/10-19-21_raw.npz\")\n",
      "data = data_npz['dataOut']\n",
      "vacuum = vacuum_npz['dataOut']\n",
      "ncount = data_npz['ncount']\n",
      "Kp_vac = np.average(vacuum,axis=(1,2))\n",
      "scaled_vc = np.sqrt(2.0/ncount)*(data - Kp_vac.reshape(600,1,1))"
     ],
     "language": "python",
     "metadata": {},
     "outputs": [],
     "prompt_number": 3
    },
    {
     "cell_type": "code",
     "collapsed": false,
     "input": [
      "mode = 194\n",
      "output = scaled_vc[mode,:,27:37].flatten('F')"
     ],
     "language": "python",
     "metadata": {},
     "outputs": [],
     "prompt_number": 4
    },
    {
     "cell_type": "code",
     "collapsed": false,
     "input": [
      "x = np.real(output)\n",
      "y = np.imag(output)"
     ],
     "language": "python",
     "metadata": {},
     "outputs": [],
     "prompt_number": 5
    },
    {
     "cell_type": "code",
     "collapsed": false,
     "input": [
      "bins = 30\n",
      "fig = plt.figure(figsize=(3.38,2),linewidth=0.5)  # PRL default width\n",
      "ax = fig.add_subplot(121, projection='3d')\n",
      "plt.subplots_adjust(left=0, right=0.9, top=1, bottom=0)\n",
      "    \n",
      "hist, xedges, yedges = np.histogram2d(x, y, bins)\n",
      "\n",
      "X, Y = np.meshgrid(xedges[:-1], yedges[:-1])\n",
      "Z = hist\n",
      "Z = Z/Z.sum() # normalize Z\n",
      "\n",
      "#ax.bar3d(xpos, ypos, zpos, dx, dy, dz, color='b', zsort='average')\n",
      "surf = ax.plot_surface(X,Y,Z,cstride=2,rstride=2,color=\"white\",shade=False)\n",
      "\n",
      "contourz = (Z.min()-Z.max())*0.6  # where to put the contours\n",
      "\n",
      "cset = ax.contour(X,Y,Z.reshape(X.shape),zdir='z',offset=contourz)\n",
      "    \n",
      "ax.set_xlabel(r'$x_p$')\n",
      "##ax.set_xlim(-40, 40)\n",
      "ax.set_ylabel(r'$y_p$')\n",
      "##ax.set_ylim(-40, 40)\n",
      "ax.set_zlabel(r'$Q$')\n",
      "ax.set_zlim(contourz,Z.max()*1.1)\n",
      "\n",
      "#ax.zaxis.set_major_locator(LinearLocator(3))\n",
      "#ax.zaxis.set_major_formatter(FormatStrFormatter(\"%.02f\"))\n",
      "ax.view_init(elev=10., azim=-45)\n",
      "#ax.locator_params(tight=True)\n",
      "ax.tick_params(labelsize=5)\n",
      "#ax.set_xticks([min(x), max(x), 0.0])\n",
      "#ax.set_yticks([min(y), max(y), 0.0])\n",
      "#ax.set_zticks([min(Z), max(Z), 0.0])\n",
      "fig.savefig(\"figure1.pdf\")"
     ],
     "language": "python",
     "metadata": {},
     "outputs": [],
     "prompt_number": 6
    },
    {
     "cell_type": "markdown",
     "metadata": {},
     "source": [
      "# Random phase Q function (Fig. 2)"
     ]
    },
    {
     "cell_type": "code",
     "collapsed": false,
     "input": [
      "random_phase_vac = np.load(\"/home/photon/data/06-25-2014/11-42-08_raw.npz\")\n",
      "random_phase = np.load(\"/home/photon/data/06-25-2014/11-43-38_raw.npz\")\n",
      "random_phase_vac_data = random_phase_vac['dataOut']\n",
      "random_phase_data = random_phase['dataOut']\n",
      "ncount = random_phase['ncount']\n",
      "Kp_vac = np.average(random_phase_vac_data,axis=(1,2))\n",
      "scaled_vc = np.sqrt(2.0/ncount)*(random_phase_data - Kp_vac.reshape(600,1,1))"
     ],
     "language": "python",
     "metadata": {},
     "outputs": [],
     "prompt_number": 7
    },
    {
     "cell_type": "code",
     "collapsed": false,
     "input": [
      "mode = 178\n",
      "output = scaled_vc[mode,:,:].flatten('F')"
     ],
     "language": "python",
     "metadata": {},
     "outputs": [],
     "prompt_number": 8
    },
    {
     "cell_type": "code",
     "collapsed": false,
     "input": [
      "x = np.real(output)\n",
      "y = np.imag(output)"
     ],
     "language": "python",
     "metadata": {},
     "outputs": [],
     "prompt_number": 9
    },
    {
     "cell_type": "code",
     "collapsed": false,
     "input": [
      "bins = 30\n",
      "fig = plt.figure(figsize=(3.38,2),linewidth=0.5)  # PRL default width\n",
      "ax = fig.add_subplot(121, projection='3d')\n",
      "plt.subplots_adjust(left=0, right=0.9, top=1, bottom=0)\n",
      "    \n",
      "hist, xedges, yedges = np.histogram2d(x, y, bins)\n",
      "\n",
      "X, Y = np.meshgrid(xedges[:-1], yedges[:-1])\n",
      "Z = hist\n",
      "Z = Z/Z.sum() # normalize Z\n",
      "\n",
      "#ax.bar3d(xpos, ypos, zpos, dx, dy, dz, color='b', zsort='average')\n",
      "surf = ax.plot_surface(X,Y,Z,cstride=2,rstride=2,color=\"white\",shade=False)\n",
      "\n",
      "contourz = (Z.min()-Z.max())*0.6  # where to put the contours\n",
      "\n",
      "cset = ax.contour(X,Y,Z.reshape(X.shape),zdir='z',offset=contourz)\n",
      "    \n",
      "ax.set_xlabel(r'$x_p$')\n",
      "##ax.set_xlim(-40, 40)\n",
      "ax.set_ylabel(r'$y_p$')\n",
      "##ax.set_ylim(-40, 40)\n",
      "ax.set_zlabel(r'$Q$')\n",
      "ax.set_zlim(contourz,Z.max()*1.1)\n",
      "\n",
      "#ax.zaxis.set_major_locator(LinearLocator(3))\n",
      "#ax.zaxis.set_major_formatter(FormatStrFormatter(\"%.02f\"))\n",
      "ax.view_init(elev=10., azim=-45)\n",
      "#ax.locator_params(tight=True)\n",
      "ax.tick_params(labelsize=5)\n",
      "#ax.set_xticks([min(x), max(x), 0.0])\n",
      "#ax.set_yticks([min(y), max(y), 0.0])\n",
      "#ax.set_zticks([min(Z), max(Z), 0.0])\n",
      "fig.savefig(\"figure2.pdf\")"
     ],
     "language": "python",
     "metadata": {},
     "outputs": [],
     "prompt_number": 10
    },
    {
     "cell_type": "markdown",
     "metadata": {},
     "source": [
      "#Correlation Q-functions (Fig 3)"
     ]
    },
    {
     "cell_type": "code",
     "collapsed": false,
     "input": [
      "random_phase_vac = np.load(\"/home/photon/data/06-27-2014/10-19-21_raw.npz\")\n",
      "random_phase = np.load(\"/home/photon/data/06-27-2014/10-55-21_raw.npz\")\n",
      "random_phase_vac_data = random_phase_vac['dataOut']\n",
      "random_phase_data = random_phase['dataOut']\n",
      "ncount = random_phase['ncount']\n",
      "Kp_vac = np.average(random_phase_vac_data,axis=(1,2))\n",
      "scaled_vc = np.sqrt(2.0/ncount)*(random_phase_data - Kp_vac.reshape(600,1,1))"
     ],
     "language": "python",
     "metadata": {},
     "outputs": [],
     "prompt_number": 11
    },
    {
     "cell_type": "code",
     "collapsed": false,
     "input": [
      "modeA = 185\n",
      "modeB = 184\n",
      "outputA = scaled_vc[modeA,:,:].flatten('F')\n",
      "outputB = scaled_vc[modeB,:,:].flatten('F')\n",
      "x = np.real(outputA)\n",
      "y = np.real(outputB)"
     ],
     "language": "python",
     "metadata": {},
     "outputs": [],
     "prompt_number": 12
    },
    {
     "cell_type": "code",
     "collapsed": false,
     "input": [
      "# Correlation plot\n",
      "bins = 30\n",
      "#fig = plt.figure(figsize=(3.38,2),linewidth=0.5)  # PRL default width\n",
      "fig = plt.figure(figsize=(8,4))\n",
      "ax = fig.add_subplot(121, projection='3d')\n",
      "plt.subplots_adjust(left=0, right=0.9, top=1, bottom=0)\n",
      "    \n",
      "hist, xedges, yedges = np.histogram2d(x, y, bins)\n",
      "\n",
      "X, Y = np.meshgrid(xedges[:-1], yedges[:-1])\n",
      "Z = hist\n",
      "Z = Z/Z.sum() # normalize Z\n",
      "\n",
      "#ax.bar3d(xpos, ypos, zpos, dx, dy, dz, color='b', zsort='average')\n",
      "surf = ax.plot_surface(X,Y,Z,cstride=1,rstride=1,color=\"white\",shade=False)\n",
      "\n",
      "contourz = (Z.min()-Z.max())*0.6  # where to put the contours\n",
      "\n",
      "cset = ax.contour(X,Y,Z.reshape(X.shape),zdir='z',offset=contourz)\n",
      "    \n",
      "ax.set_xlabel(r'$x_p$')\n",
      "##ax.set_xlim(-40, 40)\n",
      "ax.set_ylabel(r'$y_p$')\n",
      "##ax.set_ylim(-40, 40)\n",
      "ax.set_zlabel(r'$Q$')\n",
      "ax.set_zlim(contourz,Z.max()*1.1)\n",
      "\n",
      "#ax.zaxis.set_major_locator(LinearLocator(3))\n",
      "#ax.zaxis.set_major_formatter(FormatStrFormatter(\"%.02f\"))\n",
      "ax.view_init(elev=10., azim=-45)\n",
      "#ax.locator_params(tight=True)\n",
      "ax.tick_params(labelsize=12)\n",
      "#ax.set_xticks([min(x), max(x), 0.0])\n",
      "#ax.set_yticks([min(y), max(y), 0.0])\n",
      "#ax.set_zticks([min(Z), max(Z), 0.0])\n",
      "fig.savefig(\"figure3.pdf\")"
     ],
     "language": "python",
     "metadata": {},
     "outputs": [],
     "prompt_number": 14
    },
    {
     "cell_type": "code",
     "collapsed": false,
     "input": [],
     "language": "python",
     "metadata": {},
     "outputs": [],
     "prompt_number": 53
    },
    {
     "cell_type": "code",
     "collapsed": false,
     "input": [],
     "language": "python",
     "metadata": {},
     "outputs": []
    }
   ],
   "metadata": {}
  }
 ]
}