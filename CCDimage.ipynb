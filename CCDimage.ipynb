{
 "metadata": {
  "name": ""
 },
 "nbformat": 3,
 "nbformat_minor": 0,
 "worksheets": [
  {
   "cells": [
    {
     "cell_type": "markdown",
     "metadata": {},
     "source": [
      "## Collect data from Pylon CCD"
     ]
    },
    {
     "cell_type": "markdown",
     "metadata": {},
     "source": [
      "First start the image server by running \"sudo python Server.py\" in the /home/photon/code/Camserver folder"
     ]
    },
    {
     "cell_type": "code",
     "collapsed": false,
     "input": [
      "%pylab inline"
     ],
     "language": "python",
     "metadata": {},
     "outputs": [
      {
       "output_type": "stream",
       "stream": "stdout",
       "text": [
        "Populating the interactive namespace from numpy and matplotlib\n"
       ]
      }
     ],
     "prompt_number": 1
    },
    {
     "cell_type": "code",
     "collapsed": false,
     "input": [
      "import matplotlib.pyplot as plt\n",
      "import numpy as np\n",
      "import os\n",
      "import zmq\n",
      "from scipy import stats\n",
      "from collections import Counter \n",
      "from numpy.fft import fft,fftshift\n",
      "from numpy import real, imag, abs, frombuffer\n",
      "import sys\n",
      "sys.path.append('/home/photon/code/PylonCCD')\n",
      "import Qfunction\n",
      "\n",
      "Qfunc = Qfunction"
     ],
     "language": "python",
     "metadata": {},
     "outputs": [],
     "prompt_number": 2
    },
    {
     "cell_type": "code",
     "collapsed": false,
     "input": [
      "def recv_array(socket, flags=0, copy=False, track=False):\n",
      "    \"\"\"recv a numpy array\"\"\"\n",
      "    md = socket.recv_json(flags=flags)\n",
      "    msg = socket.recv(flags=flags, copy=copy, track=track)\n",
      "    buf = buffer(msg)\n",
      "    A = frombuffer(buf, dtype=md['dtype'])\n",
      "    return A.reshape(md['shape'])"
     ],
     "language": "python",
     "metadata": {},
     "outputs": [],
     "prompt_number": 3
    },
    {
     "cell_type": "code",
     "collapsed": false,
     "input": [
      "REQUEST_TIMEOUT = 2500\n",
      "SERVER_ENDPOINT = \"tcp://localhost:5555\"\n",
      "\n",
      "context = zmq.Context()\n",
      "\n",
      "#  Socket to talk to server\n",
      "print \"Connecting to array server...\"\n",
      "client = context.socket(zmq.REQ)\n",
      "client.connect(SERVER_ENDPOINT)\n",
      "\n",
      "poll = zmq.Poller()\n",
      "poll.register(client, zmq.POLLIN)"
     ],
     "language": "python",
     "metadata": {},
     "outputs": [
      {
       "output_type": "stream",
       "stream": "stdout",
       "text": [
        "Connecting to array server...\n"
       ]
      }
     ],
     "prompt_number": 4
    },
    {
     "cell_type": "code",
     "collapsed": false,
     "input": [
      "def request_images(client,N=1):\n",
      "    shots_requested = N\n",
      "    request = str(shots_requested)  # ask for one shot of data\n",
      "    print \"I: Sending (%s)\" % request\n",
      "    \n",
      "    client.send(request)"
     ],
     "language": "python",
     "metadata": {},
     "outputs": [],
     "prompt_number": 5
    },
    {
     "cell_type": "code",
     "collapsed": false,
     "input": [
      "\"\"\" Set up lists to hold the analysis output, only call this cell to clear the data before a new round of collection \"\"\"\n",
      "output = []"
     ],
     "language": "python",
     "metadata": {},
     "outputs": [],
     "prompt_number": 64
    },
    {
     "cell_type": "code",
     "collapsed": false,
     "input": [
      "def open_images():\n",
      "    socks = dict(poll.poll(REQUEST_TIMEOUT))\n",
      "    if socks.get(client) == zmq.POLLIN:\n",
      "        data_array = recv_array(client)\n",
      "        #reply = client.recv()\n",
      "    \n",
      "        if len(data_array) > 1:  # TODO test for the right size array\n",
      "            print \"I: Server replied OK: \" + str(data_array.shape)\n",
      "            return data_array\n",
      "    \n",
      "        else:\n",
      "            # print \"E: Malformed reply from server: %s\" % reply\n",
      "            print \"E: no reply from server\"\n",
      "            return -1"
     ],
     "language": "python",
     "metadata": {},
     "outputs": [],
     "prompt_number": 6
    },
    {
     "cell_type": "code",
     "collapsed": false,
     "input": [
      "pylab.rcParams['figure.figsize'] = (12.0, 6.0)"
     ],
     "language": "python",
     "metadata": {},
     "outputs": [],
     "prompt_number": 7
    },
    {
     "cell_type": "markdown",
     "metadata": {},
     "source": [
      "## Begin collection & analysis routine here"
     ]
    },
    {
     "cell_type": "code",
     "collapsed": false,
     "input": [
      "request_images(client,N=100)"
     ],
     "language": "python",
     "metadata": {},
     "outputs": [
      {
       "output_type": "stream",
       "stream": "stdout",
       "text": [
        "I: Sending (100)\n"
       ]
      }
     ],
     "prompt_number": 104
    },
    {
     "cell_type": "code",
     "collapsed": false,
     "input": [
      "data = open_images()"
     ],
     "language": "python",
     "metadata": {},
     "outputs": [
      {
       "output_type": "stream",
       "stream": "stdout",
       "text": [
        "I: Server replied OK: (400, 1340, 100)\n"
       ]
      }
     ],
     "prompt_number": 105
    },
    {
     "cell_type": "code",
     "collapsed": false,
     "input": [
      "frames = data.shape[2]\n",
      "ydim = data.shape[0]\n",
      "xdim = data.shape[1]\n",
      "print \"Adding %i frames with ydim=%i, xdim=%i to analysis\" % (frames, ydim, xdim)"
     ],
     "language": "python",
     "metadata": {},
     "outputs": [
      {
       "output_type": "stream",
       "stream": "stdout",
       "text": [
        "Adding 100 frames with ydim=400, xdim=1340 to analysis\n"
       ]
      }
     ],
     "prompt_number": 106
    },
    {
     "cell_type": "code",
     "collapsed": false,
     "input": [
      "fftComplex = []\n",
      "for f in range (0, frames):\n",
      "    fftComplex.append(fftshift(fft(data[ydim/2,:,f])))"
     ],
     "language": "python",
     "metadata": {},
     "outputs": [],
     "prompt_number": 107
    },
    {
     "cell_type": "code",
     "collapsed": false,
     "input": [
      "for shot in fftComplex:\n",
      "    output.append(shot[226+1340/2])"
     ],
     "language": "python",
     "metadata": {},
     "outputs": [],
     "prompt_number": 108
    },
    {
     "cell_type": "markdown",
     "metadata": {},
     "source": [
      "## Repeat last few cells to build up an output list\n",
      "\n",
      "TODO: save image at each step to build a movie of the histogram as it builds up."
     ]
    },
    {
     "cell_type": "code",
     "collapsed": false,
     "input": [
      "qfig = Qfunc.qfuncimage(output,15,0)"
     ],
     "language": "python",
     "metadata": {},
     "outputs": [
      {
       "metadata": {},
       "output_type": "display_data",
       "png": "[encoded data removed]",
       "text": [
        "<matplotlib.figure.Figure at 0x5eb90d0>"
       ]
      }
     ],
     "prompt_number": 109
    },
    {
     "cell_type": "code",
     "collapsed": false,
     "input": [
      "#Save data as .png of qfunc and .npy of array of complex max values of fft's\n",
      "root_path = \"/home/photon/data/\"\n",
      "#If folder for today doesn't exist, create it; else navigate to appropriate folder\n",
      "target_folder = datetime.datetime.now().strftime(\"%m-%d-%Y\")\n",
      "if not os.path.exists(root_path + target_folder):\n",
      "    os.makedirs(root_path + target_folder)\n",
      "os.chdir(root_path + target_folder)\n",
      "\n",
      "\n",
      "filename = datetime.datetime.now().strftime(\"%H-%M-%S\")# based on time and date\n",
      "qfig.savefig(filename)\n",
      "np.save(filename, output)\n",
      "\n",
      "print filename"
     ],
     "language": "python",
     "metadata": {},
     "outputs": [
      {
       "output_type": "stream",
       "stream": "stdout",
       "text": [
        "10-24-45\n"
       ]
      }
     ],
     "prompt_number": 91
    },
    {
     "cell_type": "code",
     "collapsed": false,
     "input": [
      "ls"
     ],
     "language": "python",
     "metadata": {},
     "outputs": [
      {
       "output_type": "stream",
       "stream": "stdout",
       "text": [
        "10-24-45.npy  \u001b[0m\u001b[38;5;13m10-24-45.png\u001b[0m\r\n"
       ]
      }
     ],
     "prompt_number": 94
    },
    {
     "cell_type": "code",
     "collapsed": false,
     "input": [
      "print matplotlib.__version__\n",
      "print numpy.__version__\n",
      "#print scipy.__version__"
     ],
     "language": "python",
     "metadata": {},
     "outputs": [
      {
       "output_type": "stream",
       "stream": "stdout",
       "text": [
        "1.1.1\n",
        "1.6.2\n"
       ]
      }
     ],
     "prompt_number": 13
    },
    {
     "cell_type": "code",
     "collapsed": false,
     "input": [],
     "language": "python",
     "metadata": {},
     "outputs": []
    }
   ],
   "metadata": {}
  }
 ]
}