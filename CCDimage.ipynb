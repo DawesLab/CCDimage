{
 "metadata": {
  "name": ""
 },
 "nbformat": 3,
 "nbformat_minor": 0,
 "worksheets": [
  {
   "cells": [
    {
     "cell_type": "markdown",
     "metadata": {},
     "source": [
      "## Collect data from Pylon CCD"
     ]
    },
    {
     "cell_type": "markdown",
     "metadata": {},
     "source": [
      "First start the image server by running \"sudo python Server.py\" in the /home/photon/code/Camserver folder"
     ]
    },
    {
     "cell_type": "code",
     "collapsed": false,
     "input": [
      "import matplotlib.pyplot as plt\n",
      "import numpy as np\n",
      "import os\n",
      "import zmq\n",
      "from scipy import stats\n",
      "from collections import Counter \n",
      "from numpy.fft import fft,fftshift\n",
      "from numpy import real, imag, abs, frombuffer\n",
      "import sys\n",
      "sys.path.append('/home/photon/code/PylonCCD')\n",
      "import Qfunction\n",
      "import datetime\n",
      "\n",
      "Qfunc = Qfunction"
     ],
     "language": "python",
     "metadata": {},
     "outputs": [],
     "prompt_number": 10
    },
    {
     "cell_type": "code",
     "collapsed": false,
     "input": [
      "def recv_array(socket, flags=0, copy=False, track=False):\n",
      "    \"\"\"recv a numpy array\"\"\"\n",
      "    md = socket.recv_json(flags=flags)\n",
      "    msg = socket.recv(flags=flags, copy=copy, track=track)\n",
      "    buf = buffer(msg)\n",
      "    A = frombuffer(buf, dtype=md['dtype'])\n",
      "    return A.reshape(md['shape'])"
     ],
     "language": "python",
     "metadata": {},
     "outputs": [],
     "prompt_number": 2
    },
    {
     "cell_type": "code",
     "collapsed": false,
     "input": [
      "REQUEST_TIMEOUT = 25000\n",
      "SERVER_ENDPOINT = \"tcp://localhost:5555\"\n",
      "\n",
      "context = zmq.Context()\n",
      "\n",
      "#  Socket to talk to server\n",
      "print \"Connecting to array server...\"\n",
      "client = context.socket(zmq.REQ)\n",
      "client.connect(SERVER_ENDPOINT)\n",
      "\n",
      "poll = zmq.Poller()\n",
      "poll.register(client, zmq.POLLIN)"
     ],
     "language": "python",
     "metadata": {},
     "outputs": [
      {
       "output_type": "stream",
       "stream": "stdout",
       "text": [
        "Connecting to array server...\n"
       ]
      }
     ],
     "prompt_number": 3
    },
    {
     "cell_type": "code",
     "collapsed": false,
     "input": [
      "def request_images(client,N=1):\n",
      "    shots_requested = N\n",
      "    request = str(shots_requested)  # ask for one shot of data\n",
      "    print \"I: Sending (%s)\" % request\n",
      "    \n",
      "    client.send(request)"
     ],
     "language": "python",
     "metadata": {},
     "outputs": [],
     "prompt_number": 4
    },
    {
     "cell_type": "code",
     "collapsed": false,
     "input": [
      "\"\"\" Set up lists to hold the analysis output, only call this cell to clear the data before a new round of collection \"\"\"\n",
      "output = []"
     ],
     "language": "python",
     "metadata": {},
     "outputs": [],
     "prompt_number": 5
    },
    {
     "cell_type": "code",
     "collapsed": false,
     "input": [
      "def open_images():\n",
      "    socks = dict(poll.poll(REQUEST_TIMEOUT))\n",
      "    if socks.get(client) == zmq.POLLIN:\n",
      "        data_array = recv_array(client)\n",
      "        #reply = client.recv()\n",
      "    \n",
      "        if len(data_array) > 1:  # TODO test for the right size array\n",
      "            print \"I: Server replied OK: \" + str(data_array.shape)\n",
      "            return data_array\n",
      "    \n",
      "        else:\n",
      "            # print \"E: Malformed reply from server: %s\" % reply\n",
      "            print \"E: no reply from server\"\n",
      "            return -1"
     ],
     "language": "python",
     "metadata": {},
     "outputs": [],
     "prompt_number": 6
    },
    {
     "cell_type": "code",
     "collapsed": false,
     "input": [
      "pylab.rcParams['figure.figsize'] = (12.0, 6.0)"
     ],
     "language": "python",
     "metadata": {},
     "outputs": [
      {
       "ename": "NameError",
       "evalue": "name 'pylab' is not defined",
       "output_type": "pyerr",
       "traceback": [
        "\u001b[1;31m---------------------------------------------------------------------------\u001b[0m\n\u001b[1;31mNameError\u001b[0m                                 Traceback (most recent call last)",
        "\u001b[1;32m<ipython-input-7-ab698ff8705a>\u001b[0m in \u001b[0;36m<module>\u001b[1;34m()\u001b[0m\n\u001b[1;32m----> 1\u001b[1;33m \u001b[0mpylab\u001b[0m\u001b[1;33m.\u001b[0m\u001b[0mrcParams\u001b[0m\u001b[1;33m[\u001b[0m\u001b[1;34m'figure.figsize'\u001b[0m\u001b[1;33m]\u001b[0m \u001b[1;33m=\u001b[0m \u001b[1;33m(\u001b[0m\u001b[1;36m12.0\u001b[0m\u001b[1;33m,\u001b[0m \u001b[1;36m6.0\u001b[0m\u001b[1;33m)\u001b[0m\u001b[1;33m\u001b[0m\u001b[0m\n\u001b[0m",
        "\u001b[1;31mNameError\u001b[0m: name 'pylab' is not defined"
       ]
      }
     ],
     "prompt_number": 7
    },
    {
     "cell_type": "code",
     "collapsed": false,
     "input": [
      "def saveQfig(root_path = \"/home/photon/data/\"):\n",
      "    \"\"\"\n",
      "    Save Qfig data as .png of qfunc and .npy of array of complex max values of fft's\n",
      "    Creates a folder with today's date: 01-13-2014\n",
      "    If folder for today doesn't exist, create it; else navigate to appropriate folder\n",
      "    \"\"\"\n",
      "    target_folder = datetime.datetime.now().strftime(\"%m-%d-%Y\")\n",
      "    if not os.path.exists(root_path + target_folder):\n",
      "        os.makedirs(root_path + target_folder)\n",
      "    os.chdir(root_path + target_folder)\n",
      "    \n",
      "    \n",
      "    filename = datetime.datetime.now().strftime(\"%H-%M-%S\")# based on time and date\n",
      "    qfig.savefig(filename)\n",
      "    np.save(filename, output)\n",
      "    \n",
      "    print filename"
     ],
     "language": "python",
     "metadata": {},
     "outputs": [],
     "prompt_number": 8
    },
    {
     "cell_type": "markdown",
     "metadata": {},
     "source": [
      "## Begin collection & analysis routine here"
     ]
    },
    {
     "cell_type": "code",
     "collapsed": false,
     "input": [
      "request_images(client,N=10)"
     ],
     "language": "python",
     "metadata": {},
     "outputs": [
      {
       "output_type": "stream",
       "stream": "stdout",
       "text": [
        "I: Sending (10)\n"
       ]
      }
     ],
     "prompt_number": 272
    },
    {
     "cell_type": "code",
     "collapsed": false,
     "input": [
      "data = open_images()"
     ],
     "language": "python",
     "metadata": {},
     "outputs": [
      {
       "output_type": "stream",
       "stream": "stdout",
       "text": [
        "I: Server replied OK: (400, 1340, 10)\n"
       ]
      }
     ],
     "prompt_number": 273
    },
    {
     "cell_type": "code",
     "collapsed": false,
     "input": [
      "frames = data.shape[2]\n",
      "ydim = data.shape[0]\n",
      "xdim = data.shape[1]\n",
      "print \"Adding %i frames with ydim=%i, xdim=%i to analysis\" % (frames, ydim, xdim)"
     ],
     "language": "python",
     "metadata": {},
     "outputs": [
      {
       "output_type": "stream",
       "stream": "stdout",
       "text": [
        "Adding 10 frames with ydim=400, xdim=1340 to analysis\n"
       ]
      }
     ],
     "prompt_number": 274
    },
    {
     "cell_type": "code",
     "collapsed": false,
     "input": [
      "fftComplex = []\n",
      "for f in range (0, frames):\n",
      "    #fftComplex.append(fftshift(fft(data[ydim/2,:,f])))\n",
      "    # vertical sum over middle 10 rows:\n",
      "    fftComplex.append(fft( data[195:205,:,f].sum(axis = 0) ))"
     ],
     "language": "python",
     "metadata": {},
     "outputs": [],
     "prompt_number": 275
    },
    {
     "cell_type": "code",
     "collapsed": false,
     "input": [
      "for shot in fftComplex:\n",
      "    output.append(shot[249]) # Change this to match chosen mode!"
     ],
     "language": "python",
     "metadata": {},
     "outputs": [],
     "prompt_number": 276
    },
    {
     "cell_type": "markdown",
     "metadata": {},
     "source": [
      "## Repeat last few cells to build up an output list"
     ]
    },
    {
     "cell_type": "markdown",
     "metadata": {},
     "source": [
      "# This is the one-cell version:"
     ]
    },
    {
     "cell_type": "code",
     "collapsed": false,
     "input": [
      "output = []\n",
      "for i in range(50):\n",
      "    request_images(client,N=50)\n",
      "    data = open_images()\n",
      "    frames = data.shape[2]\n",
      "    ydim = data.shape[0]\n",
      "    xdim = data.shape[1]\n",
      "    print \"Adding %i frames with ydim=%i, xdim=%i to analysis\" % (frames, ydim, xdim)\n",
      "    \n",
      "    fftComplex = []\n",
      "    for f in range (0, frames):\n",
      "        #fftComplex.append(fftshift(fft(data[ydim/2,:,f])))\n",
      "        # vertical sum over middle 10 rows:\n",
      "        fftComplex.append(fft( data[195:205,:,f].sum(axis = 0) ))\n",
      "    for shot in fftComplex:\n",
      "        output.append(shot[249]) # Change this to match chosen mode!\n",
      "    print \"analysis now includes %i frames\" % len(output)\n",
      "    #qfig = Qfunc.qfuncimage(output,15,0)\n",
      "    #saveQfig()\n",
      "    \n",
      "print \"Finished\""
     ],
     "language": "python",
     "metadata": {},
     "outputs": [
      {
       "output_type": "stream",
       "stream": "stdout",
       "text": [
        "I: Sending (50)\n",
        "I: Server replied OK: (400, 1340, 50)"
       ]
      },
      {
       "output_type": "stream",
       "stream": "stdout",
       "text": [
        "\n",
        "Adding 50 frames with ydim=400, xdim=1340 to analysis\n",
        "analysis now includes 50 frames\n",
        "I: Sending (50)\n",
        "I: Server replied OK: (400, 1340, 50)"
       ]
      },
      {
       "output_type": "stream",
       "stream": "stdout",
       "text": [
        "\n",
        "Adding 50 frames with ydim=400, xdim=1340 to analysis\n",
        "analysis now includes 100 frames\n",
        "I: Sending (50)\n",
        "I: Server replied OK: (400, 1340, 50)"
       ]
      },
      {
       "output_type": "stream",
       "stream": "stdout",
       "text": [
        "\n",
        "Adding 50 frames with ydim=400, xdim=1340 to analysis\n",
        "analysis now includes 150 frames\n",
        "I: Sending (50)\n",
        "I: Server replied OK: (400, 1340, 50)"
       ]
      },
      {
       "output_type": "stream",
       "stream": "stdout",
       "text": [
        "\n",
        "Adding 50 frames with ydim=400, xdim=1340 to analysis\n",
        "analysis now includes 200 frames\n",
        "I: Sending (50)\n",
        "I: Server replied OK: (400, 1340, 50)"
       ]
      },
      {
       "output_type": "stream",
       "stream": "stdout",
       "text": [
        "\n",
        "Adding 50 frames with ydim=400, xdim=1340 to analysis\n",
        "analysis now includes 250 frames\n",
        "I: Sending (50)\n",
        "I: Server replied OK: (400, 1340, 50)"
       ]
      },
      {
       "output_type": "stream",
       "stream": "stdout",
       "text": [
        "\n",
        "Adding 50 frames with ydim=400, xdim=1340 to analysis\n",
        "analysis now includes 300 frames\n",
        "I: Sending (50)\n",
        "I: Server replied OK: (400, 1340, 50)"
       ]
      },
      {
       "output_type": "stream",
       "stream": "stdout",
       "text": [
        "\n",
        "Adding 50 frames with ydim=400, xdim=1340 to analysis\n",
        "analysis now includes 350 frames\n",
        "I: Sending (50)\n",
        "I: Server replied OK: (400, 1340, 50)"
       ]
      },
      {
       "output_type": "stream",
       "stream": "stdout",
       "text": [
        "\n",
        "Adding 50 frames with ydim=400, xdim=1340 to analysis\n",
        "analysis now includes 400 frames\n",
        "I: Sending (50)\n",
        "I: Server replied OK: (400, 1340, 50)"
       ]
      },
      {
       "output_type": "stream",
       "stream": "stdout",
       "text": [
        "\n",
        "Adding 50 frames with ydim=400, xdim=1340 to analysis\n",
        "analysis now includes 450 frames\n",
        "I: Sending (50)\n",
        "I: Server replied OK: (400, 1340, 50)"
       ]
      },
      {
       "output_type": "stream",
       "stream": "stdout",
       "text": [
        "\n",
        "Adding 50 frames with ydim=400, xdim=1340 to analysis\n",
        "analysis now includes 500 frames\n",
        "I: Sending (50)\n",
        "I: Server replied OK: (400, 1340, 50)"
       ]
      },
      {
       "output_type": "stream",
       "stream": "stdout",
       "text": [
        "\n",
        "Adding 50 frames with ydim=400, xdim=1340 to analysis\n",
        "analysis now includes 550 frames\n",
        "I: Sending (50)\n",
        "I: Server replied OK: (400, 1340, 50)"
       ]
      },
      {
       "output_type": "stream",
       "stream": "stdout",
       "text": [
        "\n",
        "Adding 50 frames with ydim=400, xdim=1340 to analysis\n",
        "analysis now includes 600 frames\n",
        "I: Sending (50)\n",
        "I: Server replied OK: (400, 1340, 50)"
       ]
      },
      {
       "output_type": "stream",
       "stream": "stdout",
       "text": [
        "\n",
        "Adding 50 frames with ydim=400, xdim=1340 to analysis\n",
        "analysis now includes 650 frames\n",
        "I: Sending (50)\n",
        "I: Server replied OK: (400, 1340, 50)"
       ]
      },
      {
       "output_type": "stream",
       "stream": "stdout",
       "text": [
        "\n",
        "Adding 50 frames with ydim=400, xdim=1340 to analysis\n",
        "analysis now includes 700 frames\n",
        "I: Sending (50)\n",
        "I: Server replied OK: (400, 1340, 50)"
       ]
      },
      {
       "output_type": "stream",
       "stream": "stdout",
       "text": [
        "\n",
        "Adding 50 frames with ydim=400, xdim=1340 to analysis\n",
        "analysis now includes 750 frames\n",
        "I: Sending (50)\n",
        "I: Server replied OK: (400, 1340, 50)"
       ]
      },
      {
       "output_type": "stream",
       "stream": "stdout",
       "text": [
        "\n",
        "Adding 50 frames with ydim=400, xdim=1340 to analysis\n",
        "analysis now includes 800 frames\n",
        "I: Sending (50)\n",
        "I: Server replied OK: (400, 1340, 50)"
       ]
      },
      {
       "output_type": "stream",
       "stream": "stdout",
       "text": [
        "\n",
        "Adding 50 frames with ydim=400, xdim=1340 to analysis\n",
        "analysis now includes 850 frames\n",
        "I: Sending (50)\n",
        "I: Server replied OK: (400, 1340, 50)"
       ]
      },
      {
       "output_type": "stream",
       "stream": "stdout",
       "text": [
        "\n",
        "Adding 50 frames with ydim=400, xdim=1340 to analysis\n",
        "analysis now includes 900 frames\n",
        "I: Sending (50)\n",
        "I: Server replied OK: (400, 1340, 50)"
       ]
      },
      {
       "output_type": "stream",
       "stream": "stdout",
       "text": [
        "\n",
        "Adding 50 frames with ydim=400, xdim=1340 to analysis\n",
        "analysis now includes 950 frames\n",
        "I: Sending (50)\n",
        "I: Server replied OK: (400, 1340, 50)"
       ]
      },
      {
       "output_type": "stream",
       "stream": "stdout",
       "text": [
        "\n",
        "Adding 50 frames with ydim=400, xdim=1340 to analysis\n",
        "analysis now includes 1000 frames\n",
        "I: Sending (50)\n",
        "I: Server replied OK: (400, 1340, 50)"
       ]
      },
      {
       "output_type": "stream",
       "stream": "stdout",
       "text": [
        "\n",
        "Adding 50 frames with ydim=400, xdim=1340 to analysis\n",
        "analysis now includes 1050 frames\n",
        "I: Sending (50)\n",
        "I: Server replied OK: (400, 1340, 50)"
       ]
      },
      {
       "output_type": "stream",
       "stream": "stdout",
       "text": [
        "\n",
        "Adding 50 frames with ydim=400, xdim=1340 to analysis\n",
        "analysis now includes 1100 frames\n",
        "I: Sending (50)\n",
        "I: Server replied OK: (400, 1340, 50)"
       ]
      },
      {
       "output_type": "stream",
       "stream": "stdout",
       "text": [
        "\n",
        "Adding 50 frames with ydim=400, xdim=1340 to analysis\n",
        "analysis now includes 1150 frames\n",
        "I: Sending (50)\n",
        "I: Server replied OK: (400, 1340, 50)"
       ]
      },
      {
       "output_type": "stream",
       "stream": "stdout",
       "text": [
        "\n",
        "Adding 50 frames with ydim=400, xdim=1340 to analysis\n",
        "analysis now includes 1200 frames\n",
        "I: Sending (50)\n",
        "I: Server replied OK: (400, 1340, 50)"
       ]
      },
      {
       "output_type": "stream",
       "stream": "stdout",
       "text": [
        "\n",
        "Adding 50 frames with ydim=400, xdim=1340 to analysis\n",
        "analysis now includes 1250 frames\n",
        "I: Sending (50)\n",
        "I: Server replied OK: (400, 1340, 50)"
       ]
      },
      {
       "output_type": "stream",
       "stream": "stdout",
       "text": [
        "\n",
        "Adding 50 frames with ydim=400, xdim=1340 to analysis\n",
        "analysis now includes 1300 frames\n",
        "I: Sending (50)\n",
        "I: Server replied OK: (400, 1340, 50)"
       ]
      },
      {
       "output_type": "stream",
       "stream": "stdout",
       "text": [
        "\n",
        "Adding 50 frames with ydim=400, xdim=1340 to analysis\n",
        "analysis now includes 1350 frames\n",
        "I: Sending (50)\n",
        "I: Server replied OK: (400, 1340, 50)"
       ]
      },
      {
       "output_type": "stream",
       "stream": "stdout",
       "text": [
        "\n",
        "Adding 50 frames with ydim=400, xdim=1340 to analysis\n",
        "analysis now includes 1400 frames\n",
        "I: Sending (50)\n",
        "I: Server replied OK: (400, 1340, 50)"
       ]
      },
      {
       "output_type": "stream",
       "stream": "stdout",
       "text": [
        "\n",
        "Adding 50 frames with ydim=400, xdim=1340 to analysis\n",
        "analysis now includes 1450 frames\n",
        "I: Sending (50)\n",
        "I: Server replied OK: (400, 1340, 50)"
       ]
      },
      {
       "output_type": "stream",
       "stream": "stdout",
       "text": [
        "\n",
        "Adding 50 frames with ydim=400, xdim=1340 to analysis\n",
        "analysis now includes 1500 frames\n",
        "I: Sending (50)\n",
        "I: Server replied OK: (400, 1340, 50)"
       ]
      },
      {
       "output_type": "stream",
       "stream": "stdout",
       "text": [
        "\n",
        "Adding 50 frames with ydim=400, xdim=1340 to analysis\n",
        "analysis now includes 1550 frames\n",
        "I: Sending (50)\n",
        "I: Server replied OK: (400, 1340, 50)"
       ]
      },
      {
       "output_type": "stream",
       "stream": "stdout",
       "text": [
        "\n",
        "Adding 50 frames with ydim=400, xdim=1340 to analysis\n",
        "analysis now includes 1600 frames\n",
        "I: Sending (50)\n",
        "I: Server replied OK: (400, 1340, 50)"
       ]
      },
      {
       "output_type": "stream",
       "stream": "stdout",
       "text": [
        "\n",
        "Adding 50 frames with ydim=400, xdim=1340 to analysis\n",
        "analysis now includes 1650 frames\n",
        "I: Sending (50)\n",
        "I: Server replied OK: (400, 1340, 50)"
       ]
      },
      {
       "output_type": "stream",
       "stream": "stdout",
       "text": [
        "\n",
        "Adding 50 frames with ydim=400, xdim=1340 to analysis\n",
        "analysis now includes 1700 frames\n",
        "I: Sending (50)\n",
        "I: Server replied OK: (400, 1340, 50)"
       ]
      },
      {
       "output_type": "stream",
       "stream": "stdout",
       "text": [
        "\n",
        "Adding 50 frames with ydim=400, xdim=1340 to analysis\n",
        "analysis now includes 1750 frames\n",
        "I: Sending (50)\n",
        "I: Server replied OK: (400, 1340, 50)"
       ]
      },
      {
       "output_type": "stream",
       "stream": "stdout",
       "text": [
        "\n",
        "Adding 50 frames with ydim=400, xdim=1340 to analysis\n",
        "analysis now includes 1800 frames\n",
        "I: Sending (50)\n",
        "I: Server replied OK: (400, 1340, 50)"
       ]
      },
      {
       "output_type": "stream",
       "stream": "stdout",
       "text": [
        "\n",
        "Adding 50 frames with ydim=400, xdim=1340 to analysis\n",
        "analysis now includes 1850 frames\n",
        "I: Sending (50)\n",
        "I: Server replied OK: (400, 1340, 50)"
       ]
      },
      {
       "output_type": "stream",
       "stream": "stdout",
       "text": [
        "\n",
        "Adding 50 frames with ydim=400, xdim=1340 to analysis\n",
        "analysis now includes 1900 frames\n",
        "I: Sending (50)\n",
        "I: Server replied OK: (400, 1340, 50)"
       ]
      },
      {
       "output_type": "stream",
       "stream": "stdout",
       "text": [
        "\n",
        "Adding 50 frames with ydim=400, xdim=1340 to analysis\n",
        "analysis now includes 1950 frames\n",
        "I: Sending (50)\n",
        "I: Server replied OK: (400, 1340, 50)"
       ]
      },
      {
       "output_type": "stream",
       "stream": "stdout",
       "text": [
        "\n",
        "Adding 50 frames with ydim=400, xdim=1340 to analysis\n",
        "analysis now includes 2000 frames\n",
        "I: Sending (50)\n",
        "I: Server replied OK: (400, 1340, 50)"
       ]
      },
      {
       "output_type": "stream",
       "stream": "stdout",
       "text": [
        "\n",
        "Adding 50 frames with ydim=400, xdim=1340 to analysis\n",
        "analysis now includes 2050 frames\n",
        "I: Sending (50)\n",
        "I: Server replied OK: (400, 1340, 50)"
       ]
      },
      {
       "output_type": "stream",
       "stream": "stdout",
       "text": [
        "\n",
        "Adding 50 frames with ydim=400, xdim=1340 to analysis\n",
        "analysis now includes 2100 frames\n",
        "I: Sending (50)\n",
        "I: Server replied OK: (400, 1340, 50)"
       ]
      },
      {
       "output_type": "stream",
       "stream": "stdout",
       "text": [
        "\n",
        "Adding 50 frames with ydim=400, xdim=1340 to analysis\n",
        "analysis now includes 2150 frames\n",
        "I: Sending (50)\n",
        "I: Server replied OK: (400, 1340, 50)"
       ]
      },
      {
       "output_type": "stream",
       "stream": "stdout",
       "text": [
        "\n",
        "Adding 50 frames with ydim=400, xdim=1340 to analysis\n",
        "analysis now includes 2200 frames\n",
        "I: Sending (50)\n",
        "I: Server replied OK: (400, 1340, 50)"
       ]
      },
      {
       "output_type": "stream",
       "stream": "stdout",
       "text": [
        "\n",
        "Adding 50 frames with ydim=400, xdim=1340 to analysis\n",
        "analysis now includes 2250 frames\n",
        "I: Sending (50)\n",
        "I: Server replied OK: (400, 1340, 50)"
       ]
      },
      {
       "output_type": "stream",
       "stream": "stdout",
       "text": [
        "\n",
        "Adding 50 frames with ydim=400, xdim=1340 to analysis\n",
        "analysis now includes 2300 frames\n",
        "I: Sending (50)\n",
        "I: Server replied OK: (400, 1340, 50)"
       ]
      },
      {
       "output_type": "stream",
       "stream": "stdout",
       "text": [
        "\n",
        "Adding 50 frames with ydim=400, xdim=1340 to analysis\n",
        "analysis now includes 2350 frames\n",
        "I: Sending (50)\n",
        "I: Server replied OK: (400, 1340, 50)"
       ]
      },
      {
       "output_type": "stream",
       "stream": "stdout",
       "text": [
        "\n",
        "Adding 50 frames with ydim=400, xdim=1340 to analysis\n",
        "analysis now includes 2400 frames\n",
        "I: Sending (50)\n",
        "I: Server replied OK: (400, 1340, 50)"
       ]
      },
      {
       "output_type": "stream",
       "stream": "stdout",
       "text": [
        "\n",
        "Adding 50 frames with ydim=400, xdim=1340 to analysis\n",
        "analysis now includes 2450 frames\n",
        "I: Sending (50)\n",
        "I: Server replied OK: (400, 1340, 50)"
       ]
      },
      {
       "output_type": "stream",
       "stream": "stdout",
       "text": [
        "\n",
        "Adding 50 frames with ydim=400, xdim=1340 to analysis\n",
        "analysis now includes 2500 frames\n",
        "Finished\n"
       ]
      }
     ],
     "prompt_number": 25
    },
    {
     "cell_type": "code",
     "collapsed": false,
     "input": [
      "qfig = Qfunc.qfuncimage(output,35,0)"
     ],
     "language": "python",
     "metadata": {},
     "outputs": [],
     "prompt_number": 26
    },
    {
     "cell_type": "code",
     "collapsed": false,
     "input": [
      "plt.show()"
     ],
     "language": "python",
     "metadata": {},
     "outputs": [],
     "prompt_number": 27
    },
    {
     "cell_type": "code",
     "collapsed": false,
     "input": [
      "saveQfig()"
     ],
     "language": "python",
     "metadata": {},
     "outputs": [
      {
       "output_type": "stream",
       "stream": "stdout",
       "text": [
        "15-14-09\n"
       ]
      }
     ],
     "prompt_number": 28
    },
    {
     "cell_type": "code",
     "collapsed": false,
     "input": [
      "plt.plot(data[200,:,25])"
     ],
     "language": "python",
     "metadata": {},
     "outputs": [
      {
       "metadata": {},
       "output_type": "pyout",
       "prompt_number": 31,
       "text": [
        "[<matplotlib.lines.Line2D at 0xfd92a50>]"
       ]
      }
     ],
     "prompt_number": 31
    },
    {
     "cell_type": "code",
     "collapsed": false,
     "input": [
      "data[:,:,25].sum()"
     ],
     "language": "python",
     "metadata": {},
     "outputs": [
      {
       "metadata": {},
       "output_type": "pyout",
       "prompt_number": 35,
       "text": [
        "11107122045.0"
       ]
      }
     ],
     "prompt_number": 35
    },
    {
     "cell_type": "code",
     "collapsed": false,
     "input": [],
     "language": "python",
     "metadata": {},
     "outputs": []
    }
   ],
   "metadata": {}
  }
 ]
}