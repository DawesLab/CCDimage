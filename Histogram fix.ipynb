{
 "metadata": {
  "name": "",
  "signature": "sha256:bdaa9546360c4b98943047ec658bc4e0f6fd140415f81234fe6d92c4a184a9cb"
 },
 "nbformat": 3,
 "nbformat_minor": 0,
 "worksheets": [
  {
   "cells": [
    {
     "cell_type": "markdown",
     "metadata": {},
     "source": [
      "Implement these changes to fix the histogram calculation in the Q-function notebooks"
     ]
    },
    {
     "cell_type": "code",
     "collapsed": false,
     "input": [
      "from mpl_toolkits.mplot3d import Axes3D\n",
      "import matplotlib.pyplot as plt\n",
      "from matplotlib.mlab import griddata\n",
      "from matplotlib.ticker import MultipleLocator\n",
      "import numpy as np\n",
      "from scipy.stats import gaussian_kde\n",
      "from matplotlib import rc\n",
      "import numpy as np\n",
      "import sys\n",
      "sys.path.append(\"/Users/dawes/code/Qfunction/\")\n",
      "from Qfunction import kernel_estimate"
     ],
     "language": "python",
     "metadata": {},
     "outputs": [],
     "prompt_number": 1
    },
    {
     "cell_type": "code",
     "collapsed": false,
     "input": [
      "# a circular data set like our random phase:\n",
      "x = np.random.normal(size=2000) + 4*np.sin(np.linspace(0,2*np.pi,2000))*np.sin(np.linspace(0,np.pi,2000))\n",
      "y = np.random.normal(size=2000) + 4*np.cos(np.linspace(0,2*np.pi,2000))"
     ],
     "language": "python",
     "metadata": {},
     "outputs": [],
     "prompt_number": 2
    },
    {
     "cell_type": "code",
     "collapsed": false,
     "input": [
      "# a gaussian data set like our regular Q-function:\n",
      "x = np.random.normal(size=2000) + 4\n",
      "y = np.random.normal(size=2000) - 3"
     ],
     "language": "python",
     "metadata": {},
     "outputs": [],
     "prompt_number": 3
    },
    {
     "cell_type": "code",
     "collapsed": false,
     "input": [
      "rc('font',size=28)\n",
      "rc('font',family='serif')\n",
      "rc('axes',labelsize=32)\n",
      "\n",
      "bins=25\n",
      "fig = plt.figure(figsize=(13.5,8))  # PRL default width\n",
      "\n",
      "ax1 = fig.add_subplot(121, projection='3d')\n",
      "plt.subplots_adjust(left=0, right=0.90, top=1, bottom=0, wspace=0.22)\n",
      "\n",
      "hist, xedges, yedges = np.histogram2d(x, y, bins)\n",
      "\n",
      "#change this line:\n",
      "#X, Y = np.meshgrid(xedges[:-1], yedges[:-1])\n",
      "\n",
      "# to these three lines:\n",
      "xcenters = (xedges[:-1] + xedges[1:]) / 2\n",
      "ycenters = (yedges[:-1] + yedges[1:]) / 2\n",
      "X, Y = np.mgrid[xcenters[0]:xcenters[-1]:len(xcenters)*1j,ycenters[0]:ycenters[-1]:len(ycenters)*1j]\n",
      "\n",
      "Z = hist\n",
      "\n",
      "#change this line:\n",
      "#binsize = (xedges[1] - xedges[0])*(yedges[1] - yedges[0])\n",
      "\n",
      "#to this line:\n",
      "binsize = (X[1,0] - X[0,0]) * (Y[0,1] - Y[0,0])\n",
      "\n",
      "norm = Z.sum()*binsize\n",
      "Z = Z/norm # normalize Z\n",
      "surf = ax1.plot_surface(X,Y,Z,cstride=1,rstride=1,color=\"white\",shade=False)\n",
      "contourz = (Z.min()-Z.max())*0.4  # where to put the contours\n",
      "cset = ax1.contour(X,Y,Z.reshape(X.shape),zdir='z',offset=contourz)\n",
      "\n",
      "ax2 = fig.add_subplot(122, projection='3d')\n",
      "X2,Y2,Z2 = kernel_estimate(x,y,bins)\n",
      "surf2 = ax2.plot_surface(X2,Y2,Z2,cstride=1,rstride=1,color=\"white\",shade=False)\n",
      "contourz2 = (Z2.min()-Z2.max())*0.4 # where to put the contours\n",
      "cset2 = ax2.contour(X2,Y2,Z2.reshape(X2.shape),zdir='z',offset=contourz2)\n",
      "\n",
      "\n",
      "ax1.set_xlabel(r'$x_p$')\n",
      "ax1.set_ylabel(r'$y_p$')\n",
      "#ax1.set_zlabel(r'$Q(x_p,y_p)$')\n",
      "ax1.text(X.min()*1.0, Y.min()*1.0, Z.max()*1.2, r'$Q(x_p,y_p)$')\n",
      "ax1.xaxis.set_rotate_label(False)\n",
      "ax1.yaxis.set_rotate_label(False)\n",
      "ax1.zaxis.set_rotate_label(False)\n",
      "ax1.set_zlim(contourz,Z.max()*1.1)\n",
      "ax1.view_init(elev=10, azim=135)\n",
      "ax1.grid(False)\n",
      "ax1.xaxis.pane.set_edgecolor('black')\n",
      "ax1.yaxis.pane.set_edgecolor('black')\n",
      "ax1.xaxis.pane.fill = False\n",
      "ax1.yaxis.pane.fill = False\n",
      "ax1.zaxis.pane.fill = False\n",
      "ax1.xaxis.set_major_locator(MultipleLocator(4))\n",
      "ax1.yaxis.set_major_locator(MultipleLocator(4))\n",
      "ax1.zaxis.set_major_locator(MultipleLocator(0.02))\n",
      "[t.set_va('center') for t in ax1.get_yticklabels()]\n",
      "[t.set_ha('left') for t in ax1.get_yticklabels()]\n",
      "[t.set_va('center') for t in ax1.get_xticklabels()]\n",
      "[t.set_ha('right') for t in ax1.get_xticklabels()]\n",
      "[t.set_va('center') for t in ax1.get_zticklabels()]\n",
      "[t.set_ha('left') for t in ax1.get_zticklabels()]\n",
      "ax1.xaxis._axinfo['tick']['inward_factor'] = 0\n",
      "ax1.xaxis._axinfo['tick']['outward_factor'] = 0.4\n",
      "ax1.yaxis._axinfo['tick']['inward_factor'] = 0\n",
      "ax1.yaxis._axinfo['tick']['outward_factor'] = 0.4\n",
      "ax1.zaxis._axinfo['tick']['inward_factor'] = 0\n",
      "ax1.zaxis._axinfo['tick']['outward_factor'] = 0.4\n",
      "ax1.zaxis._axinfo['tick']['outward_factor'] = 0.4\n",
      "\n",
      "ax2.set_xlabel(r'$x_p$',fontsize=32)\n",
      "ax2.set_ylabel(r'$y_p$')\n",
      "#ax2.set_zlabel(r'$Q(x_p,y_p)$')\n",
      "ax2.text(X2.min()*1.0, Y2.min()*1.0, Z2.max()*1.2, r'$Q(x_p,y_p)$')\n",
      "ax2.xaxis.set_rotate_label(False)\n",
      "ax2.yaxis.set_rotate_label(False)\n",
      "ax2.zaxis.set_rotate_label(False)\n",
      "ax2.set_zlim(contourz2,Z2.max()*1.1)\n",
      "ax2.view_init(elev=10, azim=135)\n",
      "ax2.grid(False)\n",
      "ax2.xaxis.pane.set_edgecolor('black')\n",
      "ax2.yaxis.pane.set_edgecolor('black')\n",
      "ax2.xaxis.pane.fill = False\n",
      "ax2.yaxis.pane.fill = False\n",
      "ax2.zaxis.pane.fill = False\n",
      "ax2.xaxis.set_major_locator(MultipleLocator(4))\n",
      "ax2.yaxis.set_major_locator(MultipleLocator(4))\n",
      "ax2.zaxis.set_major_locator(MultipleLocator(0.02))\n",
      "[t.set_va('center') for t in ax2.get_yticklabels()]\n",
      "[t.set_ha('left') for t in ax2.get_yticklabels()]\n",
      "[t.set_va('center') for t in ax2.get_xticklabels()]\n",
      "[t.set_ha('right') for t in ax2.get_xticklabels()]\n",
      "[t.set_va('center') for t in ax2.get_zticklabels()]\n",
      "[t.set_ha('left') for t in ax2.get_zticklabels()]\n",
      "ax2.xaxis._axinfo['tick']['inward_factor'] = 0\n",
      "ax2.xaxis._axinfo['tick']['outward_factor'] = 0.4\n",
      "ax2.yaxis._axinfo['tick']['inward_factor'] = 0\n",
      "ax2.yaxis._axinfo['tick']['outward_factor'] = 0.4\n",
      "ax2.zaxis._axinfo['tick']['inward_factor'] = 0\n",
      "ax2.zaxis._axinfo['tick']['outward_factor'] = 0.4\n",
      "\n",
      "fig.savefig(\"figure1.pdf\")\n",
      "plt.close()"
     ],
     "language": "python",
     "metadata": {},
     "outputs": [
      {
       "output_type": "stream",
       "stream": "stdout",
       "text": [
        "KDE kernel factor:  0.281726911385\n"
       ]
      }
     ],
     "prompt_number": 4
    },
    {
     "cell_type": "code",
     "collapsed": false,
     "input": [
      "!open figure1.pdf"
     ],
     "language": "python",
     "metadata": {},
     "outputs": [],
     "prompt_number": 5
    },
    {
     "cell_type": "code",
     "collapsed": false,
     "input": [],
     "language": "python",
     "metadata": {},
     "outputs": []
    }
   ],
   "metadata": {}
  }
 ]
}