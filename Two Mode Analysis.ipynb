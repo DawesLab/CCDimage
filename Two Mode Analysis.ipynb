{
 "metadata": {
  "name": "",
  "signature": "sha256:c300157c549a2c7f110cbd0c48826788f0de49394abc8acad789b4b0cf6ac50a"
 },
 "nbformat": 3,
 "nbformat_minor": 0,
 "worksheets": [
  {
   "cells": [
    {
     "cell_type": "code",
     "collapsed": false,
     "input": [],
     "language": "python",
     "metadata": {},
     "outputs": []
    }
   ],
   "metadata": {}
  }
 ]
}