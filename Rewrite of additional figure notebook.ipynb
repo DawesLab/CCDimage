{
 "metadata": {
  "name": "",
  "signature": "sha256:d0ddb982dfbf7ab858c8920f6fd33923731d4787c78f09914ceab270099189eb"
 },
 "nbformat": 3,
 "nbformat_minor": 0,
 "worksheets": [
  {
   "cells": [
    {
     "cell_type": "markdown",
     "metadata": {},
     "source": [
      "# A pattern for future data analysis\n",
      "- Read into dict\n",
      "- use dict key to track data run"
     ]
    },
    {
     "cell_type": "markdown",
     "metadata": {},
     "source": [
      "Load data and plot Kp avg vs mean. TODO: correct for electronic floor in ncount and Kp values."
     ]
    },
    {
     "cell_type": "code",
     "collapsed": false,
     "input": [
      "import numpy as np\n",
      "import matplotlib.pyplot as plt"
     ],
     "language": "python",
     "metadata": {},
     "outputs": [],
     "prompt_number": 1
    },
    {
     "cell_type": "code",
     "collapsed": false,
     "input": [
      "%matplotlib inline"
     ],
     "language": "python",
     "metadata": {},
     "outputs": [],
     "prompt_number": 2
    },
    {
     "cell_type": "code",
     "collapsed": false,
     "input": [
      "filenames = [\"14-39-40\",\"14-44-12\",\"14-47-13\",\"14-49-57\",\"14-52-17\"]\n",
      "setnames = [\"A\",\"B\",\"C\",\"D\",\"E\"]\n",
      "data_npz = {}\n",
      "data = {}\n",
      "ncount = {}\n",
      "scaled_data = {}\n",
      "photons = {}\n",
      "\n"
     ],
     "language": "python",
     "metadata": {},
     "outputs": [],
     "prompt_number": 68
    },
    {
     "cell_type": "markdown",
     "metadata": {},
     "source": [
      "This next cell is the meat of the method. It iterates through the files and loads them into a data dict with key given by the name."
     ]
    },
    {
     "cell_type": "code",
     "collapsed": false,
     "input": [
      "#load the data:\n",
      "for filename, setname in zip(filenames, setnames):\n",
      "    data_npz[setname] = np.load(\"/home/photon/data/09-04-2014/\" + filename + \"_raw.npz\")\n",
      "    "
     ],
     "language": "python",
     "metadata": {},
     "outputs": [],
     "prompt_number": 70
    },
    {
     "cell_type": "code",
     "collapsed": false,
     "input": [
      "for setname in setnames:\n",
      "    data[setname] = data_npz[setname]['dataOut']\n",
      "    ncount[setname] = data_npz[setname]['ncount']"
     ],
     "language": "python",
     "metadata": {},
     "outputs": [],
     "prompt_number": 76
    },
    {
     "cell_type": "code",
     "collapsed": false,
     "input": [
      "for setname in setnames:\n",
      "    scaled_data[setname] = data[setname] - data['E']\n",
      "    photons[setname] = np.sqrt(2.0/(ncount[setname] - 46915)) * scaled_data[setname]"
     ],
     "language": "python",
     "metadata": {},
     "outputs": [
      {
       "output_type": "stream",
       "stream": "stderr",
       "text": [
        "-c:3: RuntimeWarning: invalid value encountered in sqrt\n"
       ]
      }
     ],
     "prompt_number": 77
    },
    {
     "cell_type": "code",
     "collapsed": false,
     "input": [],
     "language": "python",
     "metadata": {},
     "outputs": []
    },
    {
     "cell_type": "code",
     "collapsed": false,
     "input": [
      "test = []\n",
      "for dset in setnames:\n",
      "    test.append(np.average(ncount[dset]))"
     ],
     "language": "python",
     "metadata": {},
     "outputs": [],
     "prompt_number": 61
    },
    {
     "cell_type": "code",
     "collapsed": false,
     "input": [
      "plt.plot(np.sort(test),\"o\")"
     ],
     "language": "python",
     "metadata": {},
     "outputs": [
      {
       "metadata": {},
       "output_type": "pyout",
       "prompt_number": 62,
       "text": [
        "[<matplotlib.lines.Line2D at 0xbf10610>]"
       ]
      },
      {
       "metadata": {},
       "output_type": "display_data",
       "png": "[encoded data removed]",
       "text": [
        "<matplotlib.figure.Figure at 0xb5e3190>"
       ]
      }
     ],
     "prompt_number": 62
    },
    {
     "cell_type": "code",
     "collapsed": false,
     "input": [
      "test"
     ],
     "language": "python",
     "metadata": {},
     "outputs": [
      {
       "metadata": {},
       "output_type": "pyout",
       "prompt_number": 63,
       "text": [
        "[94474618.313999996,\n",
        " 63452094.675999999,\n",
        " 32013356.0845,\n",
        " 2272872.7045,\n",
        " 46915.209499999997]"
       ]
      }
     ],
     "prompt_number": 63
    },
    {
     "cell_type": "code",
     "collapsed": false,
     "input": [
      "plt.plot(np.sort(test - np.min(test)),\"o\")"
     ],
     "language": "python",
     "metadata": {},
     "outputs": [
      {
       "metadata": {},
       "output_type": "pyout",
       "prompt_number": 51,
       "text": [
        "[<matplotlib.lines.Line2D at 0xbb63190>]"
       ]
      },
      {
       "metadata": {},
       "output_type": "display_data",
       "png": "[encoded data removed]",
       "text": [
        "<matplotlib.figure.Figure at 0xb6cc4d0>"
       ]
      }
     ],
     "prompt_number": 51
    },
    {
     "cell_type": "markdown",
     "metadata": {},
     "source": [
      " - subtract ncount_min from all ncount values\n",
      " - subtract Kp_min from all Kp values? - noise floor?\n",
      " - then scale from Kp to units of n\n"
     ]
    },
    {
     "cell_type": "code",
     "collapsed": false,
     "input": [
      "#example for one point:\n",
      "print np.average(abs(scaled_data['A'][210]))\n",
      "print np.var(abs(scaled_data['A'][210]))"
     ],
     "language": "python",
     "metadata": {},
     "outputs": [
      {
       "output_type": "stream",
       "stream": "stdout",
       "text": [
        "18594.9697398\n",
        "45728942.1621\n"
       ]
      }
     ],
     "prompt_number": 74
    },
    {
     "cell_type": "code",
     "collapsed": false,
     "input": [
      "for dataset in setnames:\n",
      "    print \"var = \", np.var(abs(photons[dataset][205:225]))\n",
      "    print \"avg = \", np.average(abs(photons[dataset][205:225]))"
     ],
     "language": "python",
     "metadata": {},
     "outputs": [
      {
       "output_type": "stream",
       "stream": "stdout",
       "text": [
        "var =  2.62019993102\n",
        "avg =  2.93341764124\n",
        "var =  1.81081826946\n",
        "avg =  2.46893856903\n",
        "var =  1.26857465647\n",
        "avg =  2.10942248274\n",
        "var =  2.70405941924\n",
        "avg =  3.13844238434\n",
        "var =  nan\n",
        "avg =  nan\n"
       ]
      }
     ],
     "prompt_number": 79
    },
    {
     "cell_type": "code",
     "collapsed": false,
     "input": [],
     "language": "python",
     "metadata": {},
     "outputs": []
    }
   ],
   "metadata": {}
  }
 ]
}